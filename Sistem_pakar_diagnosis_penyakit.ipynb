{
  "nbformat": 4,
  "nbformat_minor": 0,
  "metadata": {
    "colab": {
      "provenance": [],
      "authorship_tag": "ABX9TyPrHmx5QXpuP688WCQhCI6W",
      "include_colab_link": true
    },
    "kernelspec": {
      "name": "python3",
      "display_name": "Python 3"
    },
    "language_info": {
      "name": "python"
    }
  },
  "cells": [
    {
      "cell_type": "markdown",
      "metadata": {
        "id": "view-in-github",
        "colab_type": "text"
      },
      "source": [
        "<a href=\"https://colab.research.google.com/github/karinaismayacantik8/Sistem-Pakar-Forward-Chaining-Backward-Chaining-_2306056_Karina-Ismaya/blob/main/Sistem_pakar_diagnosis_penyakit.ipynb\" target=\"_parent\"><img src=\"https://colab.research.google.com/assets/colab-badge.svg\" alt=\"Open In Colab\"/></a>"
      ]
    },
    {
      "cell_type": "code",
      "source": [
        "!pip install experta"
      ],
      "metadata": {
        "colab": {
          "base_uri": "https://localhost:8080/"
        },
        "id": "el4-nXDTwO6B",
        "outputId": "ce3a422d-909c-463f-ad09-5b1d5b92fe4c"
      },
      "execution_count": 1,
      "outputs": [
        {
          "output_type": "stream",
          "name": "stdout",
          "text": [
            "Collecting experta\n",
            "  Downloading experta-1.9.4-py3-none-any.whl.metadata (5.0 kB)\n",
            "Collecting frozendict==1.2 (from experta)\n",
            "  Downloading frozendict-1.2.tar.gz (2.6 kB)\n",
            "  Preparing metadata (setup.py) ... \u001b[?25l\u001b[?25hdone\n",
            "Collecting schema==0.6.7 (from experta)\n",
            "  Downloading schema-0.6.7-py2.py3-none-any.whl.metadata (14 kB)\n",
            "Downloading experta-1.9.4-py3-none-any.whl (35 kB)\n",
            "Downloading schema-0.6.7-py2.py3-none-any.whl (14 kB)\n",
            "Building wheels for collected packages: frozendict\n",
            "  Building wheel for frozendict (setup.py) ... \u001b[?25l\u001b[?25hdone\n",
            "  Created wheel for frozendict: filename=frozendict-1.2-py3-none-any.whl size=3149 sha256=691b17a8e838e010dfb3e01a407384f4c226cfe749617d2999835bbc03f604f8\n",
            "  Stored in directory: /root/.cache/pip/wheels/49/ac/f8/cb8120244e710bdb479c86198b03c7b08c3c2d3d2bf448fd6e\n",
            "Successfully built frozendict\n",
            "Installing collected packages: schema, frozendict, experta\n",
            "  Attempting uninstall: frozendict\n",
            "    Found existing installation: frozendict 2.4.6\n",
            "    Uninstalling frozendict-2.4.6:\n",
            "      Successfully uninstalled frozendict-2.4.6\n",
            "\u001b[31mERROR: pip's dependency resolver does not currently take into account all the packages that are installed. This behaviour is the source of the following dependency conflicts.\n",
            "yfinance 0.2.55 requires frozendict>=2.3.4, but you have frozendict 1.2 which is incompatible.\u001b[0m\u001b[31m\n",
            "\u001b[0mSuccessfully installed experta-1.9.4 frozendict-1.2 schema-0.6.7\n"
          ]
        }
      ]
    },
    {
      "cell_type": "code",
      "source": [
        "!pip install --upgrade frozendict"
      ],
      "metadata": {
        "colab": {
          "base_uri": "https://localhost:8080/"
        },
        "id": "IL13Sw8Owlo9",
        "outputId": "e369e7ca-d17b-4644-f5df-7b294027cc78"
      },
      "execution_count": 2,
      "outputs": [
        {
          "output_type": "stream",
          "name": "stdout",
          "text": [
            "Requirement already satisfied: frozendict in /usr/local/lib/python3.11/dist-packages (1.2)\n",
            "Collecting frozendict\n",
            "  Downloading frozendict-2.4.6-py311-none-any.whl.metadata (23 kB)\n",
            "Downloading frozendict-2.4.6-py311-none-any.whl (16 kB)\n",
            "Installing collected packages: frozendict\n",
            "  Attempting uninstall: frozendict\n",
            "    Found existing installation: frozendict 1.2\n",
            "    Uninstalling frozendict-1.2:\n",
            "      Successfully uninstalled frozendict-1.2\n",
            "\u001b[31mERROR: pip's dependency resolver does not currently take into account all the packages that are installed. This behaviour is the source of the following dependency conflicts.\n",
            "experta 1.9.4 requires frozendict==1.2, but you have frozendict 2.4.6 which is incompatible.\u001b[0m\u001b[31m\n",
            "\u001b[0mSuccessfully installed frozendict-2.4.6\n"
          ]
        }
      ]
    },
    {
      "cell_type": "code",
      "execution_count": 4,
      "metadata": {
        "colab": {
          "base_uri": "https://localhost:8080/"
        },
        "id": "ZuOLoMKuu-FQ",
        "outputId": "65470ee5-1fdc-4172-eadb-5846ad4e31b9"
      },
      "outputs": [
        {
          "output_type": "stream",
          "name": "stdout",
          "text": [
            "Do you have a cough? (yes/no): yes\n",
            "Do you have a fever? (yes/no): yes\n",
            "Do you feel tired? (yes/no): yes\n",
            "Do you have difficulty breathing? (yes/no): no\n",
            "Do you have sneezing? (yes/no): no\n",
            "Do you have a runny nose? (yes/no): yes\n",
            "Do you have a sore throat? (yes/no): yes\n",
            "Do you have a headache? (yes/no): yes\n",
            "Do you feel facial pain? (yes/no): no\n",
            "Do you feel muscle pain? (yes/no): yes\n",
            "Do you have a skin rash? (yes/no): yes\n",
            "Do you feel chest tightness? (yes/no): yes\n",
            "Diagnosis: You may have Dengue Fever.\n",
            "Diagnosis: You may have a Throat Infection.\n",
            "Diagnosis: You may have the flu.\n"
          ]
        }
      ],
      "source": [
        "from experta import *\n",
        "\n",
        "class Diagnosis(KnowledgeEngine):\n",
        "    @Rule(Fact(cough=True) & Fact(fever=True) & Fact(fatigue=True))\n",
        "    def flu(self):\n",
        "        print(\"Diagnosis: You may have the flu.\")\n",
        "\n",
        "    @Rule(Fact(cough=True) & Fact(fever=True) & Fact(breathing_difficulty=True))\n",
        "    def pneumonia(self):\n",
        "        print(\"Diagnosis: You may have pneumonia.\")\n",
        "\n",
        "    @Rule(Fact(sneezing=True) & Fact(runny_nose=True) & Fact(cough=True))\n",
        "    def cold(self):\n",
        "        print(\"Diagnosis: You may have a Common Cold.\")\n",
        "\n",
        "    @Rule(Fact(sore_throat=True) & Fact(fever=True))\n",
        "    def throat_infection(self):\n",
        "        print(\"Diagnosis: You may have a Throat Infection.\")\n",
        "\n",
        "    @Rule(Fact(fever=True) & Fact(cough=True) & Fact(breathing_difficulty=True) & Fact(fatigue=True) & Fact(sore_throat=True))\n",
        "    def covid19(self):\n",
        "        print(\"Diagnosis: You may have COVID-19.\")\n",
        "\n",
        "    @Rule(Fact(headache=True) & Fact(facial_pain=True) & Fact(runny_nose=True))\n",
        "    def sinusitis(self):\n",
        "        print(\"Diagnosis: You may have Sinusitis.\")\n",
        "\n",
        "    @Rule(Fact(fever=True) & Fact(headache=True) & Fact(muscle_pain=True) & Fact(rash=True))\n",
        "    def dengue(self):\n",
        "        print(\"Diagnosis: You may have Dengue Fever.\")\n",
        "\n",
        "    @Rule(Fact(cough=True) & Fact(breathing_difficulty=True) & Fact(chest_tightness=True))\n",
        "    def asthma(self):\n",
        "        print(\"Diagnosis: You may have Asthma.\")\n",
        "\n",
        "    @Rule(Fact(cough=False) & Fact(fever=False) & Fact(fatigue=False))\n",
        "    def healthy(self):\n",
        "        print(\"Diagnosis: You seem to be healthy.\")\n",
        "\n",
        "# Helper function (outside the class)\n",
        "def get_input():\n",
        "    def ask_question(question):\n",
        "        return input(question + \" (yes/no): \").strip().lower() == \"yes\"\n",
        "\n",
        "    return {\n",
        "        \"cough\": ask_question(\"Do you have a cough?\"),\n",
        "        \"fever\": ask_question(\"Do you have a fever?\"),\n",
        "        \"fatigue\": ask_question(\"Do you feel tired?\"),\n",
        "        \"breathing_difficulty\": ask_question(\"Do you have difficulty breathing?\"),\n",
        "        \"sneezing\": ask_question(\"Do you have sneezing?\"),\n",
        "        \"runny_nose\": ask_question(\"Do you have a runny nose?\"),\n",
        "        \"sore_throat\": ask_question(\"Do you have a sore throat?\"),\n",
        "        \"headache\": ask_question(\"Do you have a headache?\"),\n",
        "        \"facial_pain\": ask_question(\"Do you feel facial pain?\"),\n",
        "        \"muscle_pain\": ask_question(\"Do you feel muscle pain?\"),\n",
        "        \"rash\": ask_question(\"Do you have a skin rash?\"),\n",
        "        \"chest_tightness\": ask_question(\"Do you feel chest tightness?\")\n",
        "    }\n",
        "\n",
        "# Run the Expert System\n",
        "if __name__ == \"__main__\":\n",
        "    symptoms = get_input()\n",
        "    engine = Diagnosis()\n",
        "    engine.reset()\n",
        "\n",
        "    for symptom, present in symptoms.items():\n",
        "        engine.declare(Fact(**{symptom: present}))\n",
        "\n",
        "    engine.run()\n"
      ]
    }
  ]
}